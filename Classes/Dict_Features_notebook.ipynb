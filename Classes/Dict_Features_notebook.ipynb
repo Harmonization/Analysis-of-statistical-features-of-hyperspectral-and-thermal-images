{
 "cells": [
  {
   "cell_type": "code",
   "execution_count": 5,
   "id": "cooked-valuable",
   "metadata": {},
   "outputs": [],
   "source": [
    "class Dict_Features():\n",
    "    # Реализация словаря признаков\n",
    "    \n",
    "    def __init__(self, name_indeces=['TIR', 'NDVI', 'GNDVI', 'BLUE', 'GCL', 'SIPI'], \n",
    "                          name_features=['Max', 'Min', 'Max - Min', 'Mean', 'Std']):\n",
    "        self.name_indeces = name_indeces\n",
    "        self.name_features = name_features\n",
    "        self.FDict = {ind : {f : list() for f in name_features} for ind in name_indeces}\n",
    "    \n",
    "    def Take_Dict(self):\n",
    "        # Вернуть словарь\n",
    "        return self.FDict\n",
    "    \n",
    "    def Clear_Dict(self):\n",
    "        # Очистить словарь\n",
    "        self.__init__()\n",
    "        \n",
    "    def dct_stat(self, f_values, indx):\n",
    "        # Добавить в словарь признаки f_values для индекса indx\n",
    "        # f_values - одномерный массив признаков. Имена признаков хранятся в self.name_features\n",
    "        \n",
    "        for i, name in enumerate(self.name_features):\n",
    "            self.FDict[indx][name].append(f_values[i])\n",
    "        \n",
    "    def Add_All_Features(self, arr_feat):\n",
    "        # Добавить стат. признаки для пикселей каждого индекса (хранящиеся в двумерном массиве arr_feat) в словарь\n",
    "        \n",
    "        for i, indx in enumerate(self.name_indeces):\n",
    "            self.dct_stat(arr_feat[i], indx)\n",
    "    "
   ]
  },
  {
   "cell_type": "code",
   "execution_count": 4,
   "id": "minor-spider",
   "metadata": {},
   "outputs": [
    {
     "data": {
      "text/plain": [
       "{'TIR': {'Max': [], 'Min': [], 'Max - Min': [], 'Mean': [], 'Std': []},\n",
       " 'NDVI': {'Max': [], 'Min': [], 'Max - Min': [], 'Mean': [], 'Std': []},\n",
       " 'GNDVI': {'Max': [], 'Min': [], 'Max - Min': [], 'Mean': [], 'Std': []},\n",
       " 'BLUE': {'Max': [], 'Min': [], 'Max - Min': [], 'Mean': [], 'Std': []},\n",
       " 'GCL': {'Max': [], 'Min': [], 'Max - Min': [], 'Mean': [], 'Std': []},\n",
       " 'SIPI': {'Max': [], 'Min': [], 'Max - Min': [], 'Mean': [], 'Std': []}}"
      ]
     },
     "execution_count": 4,
     "metadata": {},
     "output_type": "execute_result"
    }
   ],
   "source": [
    "Dict_Features().Take_Dict()"
   ]
  }
 ],
 "metadata": {
  "kernelspec": {
   "display_name": "Python 3",
   "language": "python",
   "name": "python3"
  },
  "language_info": {
   "codemirror_mode": {
    "name": "ipython",
    "version": 3
   },
   "file_extension": ".py",
   "mimetype": "text/x-python",
   "name": "python",
   "nbconvert_exporter": "python",
   "pygments_lexer": "ipython3",
   "version": "3.8.6"
  }
 },
 "nbformat": 4,
 "nbformat_minor": 5
}
